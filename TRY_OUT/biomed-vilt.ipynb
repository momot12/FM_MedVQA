{
 "cells": [
  {
   "cell_type": "code",
   "execution_count": 1,
   "metadata": {},
   "outputs": [],
   "source": [
    "datasets_path = 'eepy/datasets'\n",
    "hf_cache_path = 'eepy/hf-cache'"
   ]
  },
  {
   "cell_type": "markdown",
   "metadata": {},
   "source": [
    "# Microsoft BioMedVLP BioViLT\n",
    "https://huggingface.co/microsoft/BiomedVLP-BioViL-T"
   ]
  },
  {
   "cell_type": "code",
   "execution_count": null,
   "metadata": {},
   "outputs": [],
   "source": [
    "import torch\n",
    "from transformers import AutoModel, AutoTokenizer\n",
    "\n",
    "# Load the model and tokenizer\n",
    "url = \"microsoft/BiomedVLP-BioViL-T\"\n",
    "tokenizer = AutoTokenizer.from_pretrained(url, trust_remote_code=True, cache_dir=hf_cache_path)\n",
    "model = AutoModel.from_pretrained(url, trust_remote_code=True, cache_dir=hf_cache_path)\n",
    "\n",
    "# Input text prompts describing findings.\n",
    "# The order of prompts is adjusted to capture the spectrum from absence of a finding to its temporal progression.\n",
    "text_prompts = [\"No pleural effusion or pneumothorax is seen.\",\n",
    "                \"There is no pneumothorax or pleural effusion.\",\n",
    "                \"The extent of the pleural effusion is reduced.\",\n",
    "                \"The extent of the pleural effusion remains constant.\",\n",
    "                \"Interval enlargement of pleural effusion.\"]\n",
    "\n",
    "# Tokenize and compute the sentence embeddings\n",
    "with torch.no_grad():\n",
    "    tokenizer_output = tokenizer.batch_encode_plus(batch_text_or_text_pairs=text_prompts,\n",
    "                                                   add_special_tokens=True,\n",
    "                                                   padding='longest',\n",
    "                                                   return_tensors='pt')\n",
    "    embeddings = model.get_projected_text_embeddings(input_ids=tokenizer_output.input_ids,\n",
    "                                                 attention_mask=tokenizer_output.attention_mask)\n",
    "\n",
    "    # Compute the cosine similarity of sentence embeddings obtained from input text prompts.\n",
    "    sim = torch.mm(embeddings, embeddings.t())\n",
    "\n",
    "sim"
   ]
  }
 ],
 "metadata": {
  "kernelspec": {
   "display_name": "med_vqa_py3.9",
   "language": "python",
   "name": "python3"
  },
  "language_info": {
   "codemirror_mode": {
    "name": "ipython",
    "version": 3
   },
   "file_extension": ".py",
   "mimetype": "text/x-python",
   "name": "python",
   "nbconvert_exporter": "python",
   "pygments_lexer": "ipython3",
   "version": "3.9.20"
  }
 },
 "nbformat": 4,
 "nbformat_minor": 2
}
